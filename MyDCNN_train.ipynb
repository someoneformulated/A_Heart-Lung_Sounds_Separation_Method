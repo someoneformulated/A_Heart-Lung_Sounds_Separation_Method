{
 "cells": [
  {
   "cell_type": "code",
   "execution_count": 1,
   "id": "oriented-event",
   "metadata": {},
   "outputs": [],
   "source": [
    "#功能：输入肺音的时频矩阵，用CNN判断其类别\n",
    "#0：SR  1：MR  2：VB  3：VR  4：WR\n",
    "\n",
    "import torch\n",
    "from torch import nn\n",
    "import pandas as pd\n",
    "import time\n",
    "import copy\n",
    "import torch.nn.functional as F\n",
    "import torch.optim as optim\n",
    "import torchvision\n",
    "from torchvision import transforms\n",
    "import numpy as np\n",
    "import matplotlib.pyplot as plt\n",
    "import xlrd\n",
    "from torch.autograd import Variable\n",
    "from torch.utils.data import Dataset  \n",
    "from torch.utils.data import DataLoader \n",
    "from torchvision import datasets\n",
    "import torch.utils.data as Data"
   ]
  },
  {
   "cell_type": "code",
   "execution_count": 2,
   "id": "disturbed-leader",
   "metadata": {},
   "outputs": [],
   "source": [
    "class lungDataset(Dataset):#\n",
    "    def __init__(self,inputs,sig_num,in_width,in_height):  \n",
    "        xy1=np.loadtxt(open(inputs,\"rb\"),delimiter=\",\",skiprows=0)\n",
    "        \n",
    "        x=np.zeros([sig_num,in_width,in_height]) \n",
    "        y=np.zeros([sig_num])\n",
    "        for i in range(sig_num):  \n",
    "            x[i,:,:]=xy1[in_height*i:in_height*(i+1),0:256].T\n",
    "            \n",
    "            y[i]=xy1[in_height*i,256]#LABEL\n",
    "        \n",
    "        x=x.astype('float32') \n",
    "        y=y.astype('int64') \n",
    "        x=torch.from_numpy(x);y=torch.from_numpy(y)\n",
    "        x=x[:,np.newaxis,:,:]\n",
    "        x = Variable(x,requires_grad=True);\n",
    "#         x=x.cuda(0);y=y.cuda(0)\n",
    "        self.x_data = x\n",
    "        self.y_data = y\n",
    "        self.len = x.shape[0] \n",
    "        \n",
    "    def __getitem__(self, index):    \n",
    "        return self.x_data[index], self.y_data[index]\n",
    " \n",
    "    def __len__(self): #\n",
    "        return self.len\n"
   ]
  },
  {
   "cell_type": "code",
   "execution_count": 3,
   "id": "premium-disorder",
   "metadata": {},
   "outputs": [],
   "source": [
    "in_width=256\n",
    "in_height=128\n",
    "batch_size_train=4\n",
    "batch_size_validation=4\n",
    "sig_num_train=56\n",
    "sig_num_validation=28"
   ]
  },
  {
   "cell_type": "code",
   "execution_count": 4,
   "id": "sweet-cricket",
   "metadata": {},
   "outputs": [],
   "source": [
    "dataset = lungDataset(inputs=\"56肺时频矩阵.csv\",sig_num=sig_num_train,in_width=in_width,\n",
    "                          in_height=in_height) #\n",
    "train_loader=DataLoader(dataset=dataset, batch_size=batch_size_train, shuffle=False, num_workers=0)\n",
    "\n",
    "dataset=lungDataset(inputs=\"28肺时频矩阵.csv\",sig_num=sig_num_validation,in_width=in_width,\n",
    "                        in_height=in_height)\n",
    "validation_loader=DataLoader(dataset=dataset,batch_size=batch_size_validation,shuffle=False,num_workers=0)\n",
    "\n"
   ]
  },
  {
   "cell_type": "code",
   "execution_count": 5,
   "id": "greek-silicon",
   "metadata": {},
   "outputs": [
    {
     "name": "stdout",
     "output_type": "stream",
     "text": [
      "step： 14\n",
      "torch.float32\n",
      "torch.Size([4, 1, 256, 128])\n",
      "<class 'torch.Tensor'>\n",
      "True\n",
      "torch.int64\n",
      "torch.Size([4])\n",
      "<class 'torch.Tensor'>\n",
      "False\n",
      "step： 7\n",
      "torch.float32\n",
      "torch.Size([4, 1, 256, 128])\n",
      "<class 'torch.Tensor'>\n",
      "True\n",
      "torch.int64\n",
      "torch.Size([4])\n",
      "<class 'torch.Tensor'>\n",
      "False\n"
     ]
    }
   ],
   "source": [
    "for step,(x,y) in enumerate(train_loader):\n",
    "    pass\n",
    "print(\"step：\",step+1)\n",
    "print(x.dtype) \n",
    "print(x.shape)  \n",
    "print(type(x))  \n",
    "print(x.requires_grad) \n",
    "print(y.dtype) \n",
    "print(y.shape)  \n",
    "print(type(y))  \n",
    "print(y.requires_grad) \n",
    "\n",
    "for step,(x,y) in enumerate(validation_loader):\n",
    "    pass\n",
    "print(\"step：\",step+1)\n",
    "print(x.dtype) \n",
    "print(x.shape) \n",
    "print(type(x))  \n",
    "print(x.requires_grad) \n",
    "print(y.dtype) \n",
    "print(y.shape)  \n",
    "print(type(y))  \n",
    "print(y.requires_grad) "
   ]
  },
  {
   "cell_type": "code",
   "execution_count": 6,
   "id": "working-england",
   "metadata": {},
   "outputs": [],
   "source": [
    "class MyDCNN(torch.nn.Module):\n",
    "    def __init__(self):\n",
    "        super(MyDCNN, self).__init__()\n",
    "        self.pooling1=torch.nn.AvgPool2d(kernel_size=2,stride=2)\n",
    "        self.cnn10=nn.Conv2d(in_channels=1,out_channels=16,kernel_size=3,\n",
    "                              stride=1,padding=1,bias=False, dilation=2)\n",
    "    \n",
    "        self.cnn20=nn.Conv2d(in_channels=16,out_channels=32,kernel_size=3,\n",
    "                              stride=1,padding=1,bias=False, dilation=2)\n",
    "\n",
    "        self.cnn30=nn.Conv2d(in_channels=32,out_channels=48,kernel_size=3,\n",
    "                        stride=1,padding=1,bias=False, dilation=2)\n",
    "        \n",
    "        self.cnn40=nn.Conv2d(in_channels=48,out_channels=64,kernel_size=3,\n",
    "                        stride=1,padding=1,bias=False, dilation=2)\n",
    "        self.bn4=nn.BatchNorm2d(64)\n",
    "        self.fc1=torch.nn.Linear(5376,128)\n",
    "        self.fc2=torch.nn.Linear(128,64)\n",
    "        self.fc3=torch.nn.Linear(64,8)\n",
    "    def forward(self,x):\n",
    "        batch_size=x.size(0)\n",
    "        en=nn.functional.elu(x, alpha=1.0, inplace=False)\n",
    "        \n",
    "        en=torch.relu(self.cnn10(en))\n",
    "        en =self.pooling1(en)\n",
    "              \n",
    "        en=torch.relu(self.cnn20(en))\n",
    "        en =self.pooling1(en)\n",
    "        \n",
    "        en=torch.relu(self.cnn30(en))\n",
    "        en =self.pooling1(en)\n",
    "              \n",
    "        en=torch.relu(self.cnn40(en))\n",
    "        en=self.bn4(en)\n",
    "        en =self.pooling1(en)\n",
    "              \n",
    "        en=en.view(batch_size,-1)\n",
    "        en=self.fc1(en)\n",
    "        en=self.fc2(en)\n",
    "        en=self.fc3(en)\n",
    "        return en\n",
    "   \n",
    "   "
   ]
  },
  {
   "cell_type": "code",
   "execution_count": 7,
   "id": "manufactured-entertainment",
   "metadata": {},
   "outputs": [
    {
     "name": "stdout",
     "output_type": "stream",
     "text": [
      "MyDCNN(\n",
      "  (pooling1): AvgPool2d(kernel_size=2, stride=2, padding=0)\n",
      "  (cnn10): Conv2d(1, 16, kernel_size=(3, 3), stride=(1, 1), padding=(1, 1), dilation=(2, 2), bias=False)\n",
      "  (cnn20): Conv2d(16, 32, kernel_size=(3, 3), stride=(1, 1), padding=(1, 1), dilation=(2, 2), bias=False)\n",
      "  (cnn30): Conv2d(32, 48, kernel_size=(3, 3), stride=(1, 1), padding=(1, 1), dilation=(2, 2), bias=False)\n",
      "  (cnn40): Conv2d(48, 64, kernel_size=(3, 3), stride=(1, 1), padding=(1, 1), dilation=(2, 2), bias=False)\n",
      "  (bn4): BatchNorm2d(64, eps=1e-05, momentum=0.1, affine=True, track_running_stats=True)\n",
      "  (fc1): Linear(in_features=5376, out_features=128, bias=True)\n",
      "  (fc2): Linear(in_features=128, out_features=64, bias=True)\n",
      "  (fc3): Linear(in_features=64, out_features=8, bias=True)\n",
      ")\n"
     ]
    }
   ],
   "source": [
    "lr = 0.0001\n",
    "model=MyDCNN()\n",
    "# model.cuda()\n",
    "print(model)\n",
    "optimizer=torch.optim.Adam(model.parameters(),lr)\n",
    "criterion = nn.CrossEntropyLoss()\n",
    "# criterion.cuda()\n"
   ]
  },
  {
   "cell_type": "code",
   "execution_count": 8,
   "id": "copyrighted-sample",
   "metadata": {},
   "outputs": [],
   "source": [
    "train_loss_all=[]\n",
    "train_acc_all=[]\n",
    "validation_loss_all=[]\n",
    "validation_acc_all=[]\n",
    "num_epochs=301\n"
   ]
  },
  {
   "cell_type": "code",
   "execution_count": 9,
   "id": "seventh-trace",
   "metadata": {},
   "outputs": [
    {
     "name": "stdout",
     "output_type": "stream",
     "text": [
      "Epoch:  301 迭代率 0.0001\n",
      "训练Batch: 4 验证Batch: 4\n",
      "训练集信号个数: 56 验证集信号个数: 28\n",
      "--------------------------------------------------\n",
      "Epoch: 1/301\n",
      "训练集loss:0.1397 ，训练集acc:0.4464，用时：2.7825s\n",
      "| -------------------------------------------------------------------------------- |\n",
      "测试集loss:0.1397 ，测试集集acc:0.4464，用时：3.1699s\n",
      "| -------------------------------------------------------------------------------- |\n",
      "Epoch: 2/301\n",
      "训练集loss:0.0628 ，训练集acc:0.8214，用时：2.6025s\n",
      "Epoch: 3/301\n",
      "训练集loss:0.0423 ，训练集acc:0.8750，用时：2.5938s\n",
      "Epoch: 4/301\n",
      "训练集loss:0.0241 ，训练集acc:0.9643，用时：2.9071s\n",
      "Epoch: 5/301\n",
      "训练集loss:0.0161 ，训练集acc:0.9821，用时：3.2191s\n",
      "Epoch: 6/301\n",
      "训练集loss:0.0113 ，训练集acc:0.9821，用时：2.9128s\n",
      "Epoch: 7/301\n",
      "训练集loss:0.0079 ，训练集acc:1.0000，用时：3.1118s\n",
      "Epoch: 8/301\n",
      "训练集loss:0.0058 ，训练集acc:1.0000，用时：3.7813s\n",
      "Epoch: 9/301\n",
      "训练集loss:0.0044 ，训练集acc:1.0000，用时：3.0079s\n",
      "Epoch: 10/301\n",
      "训练集loss:0.0034 ，训练集acc:1.0000，用时：3.6872s\n",
      "Epoch: 11/301\n",
      "训练集loss:0.0028 ，训练集acc:1.0000，用时：5.2688s\n",
      "Epoch: 12/301\n",
      "训练集loss:0.0023 ，训练集acc:1.0000，用时：4.0565s\n",
      "Epoch: 13/301\n",
      "训练集loss:0.0019 ，训练集acc:1.0000，用时：3.4524s\n",
      "Epoch: 14/301\n",
      "训练集loss:0.0016 ，训练集acc:1.0000，用时：3.1815s\n",
      "Epoch: 15/301\n",
      "训练集loss:0.0014 ，训练集acc:1.0000，用时：3.0987s\n",
      "Epoch: 16/301\n",
      "训练集loss:0.0012 ，训练集acc:1.0000，用时：3.9082s\n",
      "Epoch: 17/301\n",
      "训练集loss:0.0011 ，训练集acc:1.0000，用时：3.2839s\n",
      "Epoch: 18/301\n",
      "训练集loss:0.0010 ，训练集acc:1.0000，用时：2.8668s\n",
      "Epoch: 19/301\n",
      "训练集loss:0.0009 ，训练集acc:1.0000，用时：2.9272s\n",
      "Epoch: 20/301\n",
      "训练集loss:0.0008 ，训练集acc:1.0000，用时：2.8309s\n",
      "Epoch: 21/301\n",
      "训练集loss:0.0007 ，训练集acc:1.0000，用时：2.8804s\n",
      "| -------------------------------------------------------------------------------- |\n",
      "测试集loss:0.0007 ，测试集集acc:1.0000，用时：3.2977s\n",
      "| -------------------------------------------------------------------------------- |\n",
      "Epoch: 22/301\n",
      "训练集loss:0.0006 ，训练集acc:1.0000，用时：2.8579s\n",
      "Epoch: 23/301\n",
      "训练集loss:0.0006 ，训练集acc:1.0000，用时：2.8441s\n",
      "Epoch: 24/301\n",
      "训练集loss:0.0005 ，训练集acc:1.0000，用时：2.8904s\n",
      "Epoch: 25/301\n",
      "训练集loss:0.0005 ，训练集acc:1.0000，用时：2.8778s\n",
      "Epoch: 26/301\n",
      "训练集loss:0.0004 ，训练集acc:1.0000，用时：2.8605s\n"
     ]
    },
    {
     "ename": "KeyboardInterrupt",
     "evalue": "",
     "output_type": "error",
     "traceback": [
      "\u001b[1;31m---------------------------------------------------------------------------\u001b[0m",
      "\u001b[1;31mKeyboardInterrupt\u001b[0m                         Traceback (most recent call last)",
      "\u001b[1;32m<ipython-input-9-766f9729a42e>\u001b[0m in \u001b[0;36m<module>\u001b[1;34m\u001b[0m\n\u001b[0;32m     18\u001b[0m         \u001b[0mloss\u001b[0m\u001b[1;33m=\u001b[0m\u001b[0mcriterion\u001b[0m\u001b[1;33m(\u001b[0m\u001b[0moutput\u001b[0m\u001b[1;33m,\u001b[0m\u001b[0mb_y\u001b[0m\u001b[1;33m)\u001b[0m \u001b[1;31m#第二步：计算损失 计算batch_size_train个10维向量（包含类别）与5个类别标签的交叉熵\u001b[0m\u001b[1;33m\u001b[0m\u001b[1;33m\u001b[0m\u001b[0m\n\u001b[0;32m     19\u001b[0m         \u001b[0moptimizer\u001b[0m\u001b[1;33m.\u001b[0m\u001b[0mzero_grad\u001b[0m\u001b[1;33m(\u001b[0m\u001b[1;33m)\u001b[0m \u001b[1;31m#第三步 优化器清0\u001b[0m\u001b[1;33m\u001b[0m\u001b[1;33m\u001b[0m\u001b[0m\n\u001b[1;32m---> 20\u001b[1;33m         \u001b[0mloss\u001b[0m\u001b[1;33m.\u001b[0m\u001b[0mbackward\u001b[0m\u001b[1;33m(\u001b[0m\u001b[1;33m)\u001b[0m \u001b[1;31m#第四步 反向传播\u001b[0m\u001b[1;33m\u001b[0m\u001b[1;33m\u001b[0m\u001b[0m\n\u001b[0m\u001b[0;32m     21\u001b[0m         \u001b[0moptimizer\u001b[0m\u001b[1;33m.\u001b[0m\u001b[0mstep\u001b[0m\u001b[1;33m(\u001b[0m\u001b[1;33m)\u001b[0m \u001b[1;31m#第五步 优化器优化权值\u001b[0m\u001b[1;33m\u001b[0m\u001b[1;33m\u001b[0m\u001b[0m\n\u001b[0;32m     22\u001b[0m \u001b[1;33m\u001b[0m\u001b[0m\n",
      "\u001b[1;32mC:\\path\\anaconda3\\envs\\pytorch\\lib\\site-packages\\torch\\tensor.py\u001b[0m in \u001b[0;36mbackward\u001b[1;34m(self, gradient, retain_graph, create_graph, inputs)\u001b[0m\n\u001b[0;32m    243\u001b[0m                 \u001b[0mcreate_graph\u001b[0m\u001b[1;33m=\u001b[0m\u001b[0mcreate_graph\u001b[0m\u001b[1;33m,\u001b[0m\u001b[1;33m\u001b[0m\u001b[1;33m\u001b[0m\u001b[0m\n\u001b[0;32m    244\u001b[0m                 inputs=inputs)\n\u001b[1;32m--> 245\u001b[1;33m         \u001b[0mtorch\u001b[0m\u001b[1;33m.\u001b[0m\u001b[0mautograd\u001b[0m\u001b[1;33m.\u001b[0m\u001b[0mbackward\u001b[0m\u001b[1;33m(\u001b[0m\u001b[0mself\u001b[0m\u001b[1;33m,\u001b[0m \u001b[0mgradient\u001b[0m\u001b[1;33m,\u001b[0m \u001b[0mretain_graph\u001b[0m\u001b[1;33m,\u001b[0m \u001b[0mcreate_graph\u001b[0m\u001b[1;33m,\u001b[0m \u001b[0minputs\u001b[0m\u001b[1;33m=\u001b[0m\u001b[0minputs\u001b[0m\u001b[1;33m)\u001b[0m\u001b[1;33m\u001b[0m\u001b[1;33m\u001b[0m\u001b[0m\n\u001b[0m\u001b[0;32m    246\u001b[0m \u001b[1;33m\u001b[0m\u001b[0m\n\u001b[0;32m    247\u001b[0m     \u001b[1;32mdef\u001b[0m \u001b[0mregister_hook\u001b[0m\u001b[1;33m(\u001b[0m\u001b[0mself\u001b[0m\u001b[1;33m,\u001b[0m \u001b[0mhook\u001b[0m\u001b[1;33m)\u001b[0m\u001b[1;33m:\u001b[0m\u001b[1;33m\u001b[0m\u001b[1;33m\u001b[0m\u001b[0m\n",
      "\u001b[1;32mC:\\path\\anaconda3\\envs\\pytorch\\lib\\site-packages\\torch\\autograd\\__init__.py\u001b[0m in \u001b[0;36mbackward\u001b[1;34m(tensors, grad_tensors, retain_graph, create_graph, grad_variables, inputs)\u001b[0m\n\u001b[0;32m    143\u001b[0m         \u001b[0mretain_graph\u001b[0m \u001b[1;33m=\u001b[0m \u001b[0mcreate_graph\u001b[0m\u001b[1;33m\u001b[0m\u001b[1;33m\u001b[0m\u001b[0m\n\u001b[0;32m    144\u001b[0m \u001b[1;33m\u001b[0m\u001b[0m\n\u001b[1;32m--> 145\u001b[1;33m     Variable._execution_engine.run_backward(\n\u001b[0m\u001b[0;32m    146\u001b[0m         \u001b[0mtensors\u001b[0m\u001b[1;33m,\u001b[0m \u001b[0mgrad_tensors_\u001b[0m\u001b[1;33m,\u001b[0m \u001b[0mretain_graph\u001b[0m\u001b[1;33m,\u001b[0m \u001b[0mcreate_graph\u001b[0m\u001b[1;33m,\u001b[0m \u001b[0minputs\u001b[0m\u001b[1;33m,\u001b[0m\u001b[1;33m\u001b[0m\u001b[1;33m\u001b[0m\u001b[0m\n\u001b[0;32m    147\u001b[0m         allow_unreachable=True, accumulate_grad=True)  # allow_unreachable flag\n",
      "\u001b[1;31mKeyboardInterrupt\u001b[0m: "
     ]
    }
   ],
   "source": [
    "print('Epoch: ',num_epochs,'迭代率',lr)\n",
    "print('训练Batch:',batch_size_train,'验证Batch:',batch_size_validation)\n",
    "print('训练集信号个数:',sig_num_train,'验证集信号个数:',sig_num_validation)\n",
    "print('-'*50)\n",
    "\n",
    "for epoch in range(num_epochs):\n",
    "    start_time = time.time()\n",
    "    torch.cuda.empty_cache()##t\n",
    "    torch.backends.cudnn.benchmark = True \n",
    "    model.train() #\n",
    "    train_corrects=0;validation_corrects=0\n",
    "    train_num=0;validation_num=0\n",
    "    \n",
    "    for step,(b_x,b_y) in enumerate(train_loader):      \n",
    "        xdata=b_x  #[batch,in_channels,256,128]\n",
    "        output=model(xdata) \n",
    "        pre_lab=torch.argmax(output,1)  \n",
    "        loss=criterion(output,b_y) \n",
    "        optimizer.zero_grad() \n",
    "        loss.backward() \n",
    "        optimizer.step() \n",
    "        \n",
    "        loss+=loss.item()*b_x.size(0)              # \n",
    "        train_corrects+=torch.sum(pre_lab == b_y.data)   #\n",
    "        train_num+=b_x.size(0) #\n",
    "    \n",
    "    train_loss_all.append(loss/train_num)\n",
    "    train_acc_all.append(train_corrects.double().item()/train_num)\n",
    "    print('Epoch: {}/{}'.format(epoch+1,num_epochs))\n",
    "    print('训练集loss:{:.4f} ，训练集acc:{:.4f}，用时：{:.4f}s'.format(train_loss_all[-1],\n",
    "                                                         train_acc_all[-1],(time.time() - start_time)))\n",
    "       \n",
    "    if epoch % 20 == 0:\n",
    "        model.eval() #VAL\n",
    "        corrects=0\n",
    "        validation_num=0\n",
    "        for step, (c_x,c_y) in enumerate(validation_loader, 0):\n",
    "            output=model(c_x) \n",
    "            pre_lab=torch.argmax(output,1)  \n",
    "            loss=criterion(output,c_y)\n",
    "            loss+=loss.item()*c_x.size(0) \n",
    "            validation_corrects+=torch.sum(pre_lab == c_y.data)\n",
    "            validation_num+=c_x.size(0) \n",
    "        \n",
    "        validation_loss_all.append(loss/validation_num)\n",
    "        validation_acc_all.append(validation_corrects.double().item()/validation_num)\n",
    "        print('|','-'*80,'|')\n",
    "        print('test_loss:{:.4f} ，test_acc:{:.4f}，time：{:.4f}s'.format(train_loss_all[-1],\n",
    "                                                         train_acc_all[-1],(time.time() - start_time)))\n",
    "        print('|','-'*80,'|')\n"
   ]
  },
  {
   "cell_type": "code",
   "execution_count": null,
   "id": "incredible-occurrence",
   "metadata": {},
   "outputs": [],
   "source": []
  },
  {
   "cell_type": "code",
   "execution_count": null,
   "id": "single-praise",
   "metadata": {},
   "outputs": [],
   "source": []
  },
  {
   "cell_type": "code",
   "execution_count": 27,
   "id": "funded-insulin",
   "metadata": {},
   "outputs": [],
   "source": [
    "#保存模型\n",
    "torch.save(model.state_dict(), 'my_dcnn.pt')"
   ]
  },
  {
   "cell_type": "code",
   "execution_count": 28,
   "id": "assigned-austria",
   "metadata": {},
   "outputs": [
    {
     "data": {
      "text/plain": [
       "<All keys matched successfully>"
      ]
     },
     "execution_count": 28,
     "metadata": {},
     "output_type": "execute_result"
    }
   ],
   "source": [
    "m_state_dict = torch.load('my_dcnn.pt')  #加载模型参数\n",
    "new_m = MyDCNN()              #加载模型\n",
    "new_m.load_state_dict(m_state_dict) #模型参数导入新模型"
   ]
  },
  {
   "cell_type": "code",
   "execution_count": 29,
   "id": "electric-slovak",
   "metadata": {},
   "outputs": [
    {
     "name": "stdout",
     "output_type": "stream",
     "text": [
      "预测分类 tensor([0, 1, 3, 3, 3, 2])\n",
      "真实分类 tensor([0, 1, 3, 3, 3, 2])\n",
      "第1轮: acc:1.000，time：0.4358s\n",
      "--------------------------------------------------------------------------------\n",
      "预测分类 tensor([4, 4, 4, 2, 1, 4])\n",
      "真实分类 tensor([4, 4, 4, 2, 1, 4])\n",
      "第2轮: acc:1.000，time：0.5047s\n",
      "--------------------------------------------------------------------------------\n"
     ]
    }
   ],
   "source": [
    "start_time = time.time()\n",
    "acc_all=[]\n",
    "dataset=lungDataset(inputs=\"12肺时频矩阵.csv\",sig_num=12,in_width=in_width,\n",
    "                        in_height=in_height)\n",
    "validation_loader=DataLoader(dataset=dataset,batch_size=6,shuffle=False,num_workers=0)\n",
    "for step,(x,y) in enumerate(validation_loader):\n",
    "    train_corrects=0\n",
    "    output_test=new_m(x)\n",
    "    pre_lab=torch.argmax(output_test,1)\n",
    "    print('预测分类',pre_lab)\n",
    "    print('真实分类',y)\n",
    "    \n",
    "    corrects=torch.sum(pre_lab == y.data) #正确个数 pre_lab == b_y.data\n",
    "    num=x.size(0) #训练总数######计算经过一个epoch后在下训练集上的精度\n",
    "    acc_all.append(corrects.double().item()/num)\n",
    "    print('第{}轮: acc:{:.3f}，time：{:.4f}s'.format(step+1,\n",
    "                                                     acc_all[-1],(time.time() - start_time)))\n",
    "    print('-'*80)\n",
    "       "
   ]
  },
  {
   "cell_type": "code",
   "execution_count": null,
   "id": "dynamic-columbus",
   "metadata": {},
   "outputs": [],
   "source": []
  },
  {
   "cell_type": "code",
   "execution_count": null,
   "id": "identified-classification",
   "metadata": {},
   "outputs": [],
   "source": []
  },
  {
   "cell_type": "code",
   "execution_count": null,
   "id": "coupled-board",
   "metadata": {},
   "outputs": [],
   "source": []
  },
  {
   "cell_type": "code",
   "execution_count": null,
   "id": "extensive-biodiversity",
   "metadata": {},
   "outputs": [],
   "source": []
  },
  {
   "cell_type": "code",
   "execution_count": null,
   "id": "efficient-shape",
   "metadata": {},
   "outputs": [],
   "source": []
  },
  {
   "cell_type": "code",
   "execution_count": null,
   "id": "amazing-bandwidth",
   "metadata": {},
   "outputs": [],
   "source": []
  },
  {
   "cell_type": "code",
   "execution_count": null,
   "id": "incoming-trinidad",
   "metadata": {},
   "outputs": [],
   "source": []
  }
 ],
 "metadata": {
  "kernelspec": {
   "display_name": "Python 3",
   "language": "python",
   "name": "python3"
  },
  "language_info": {
   "codemirror_mode": {
    "name": "ipython",
    "version": 3
   },
   "file_extension": ".py",
   "mimetype": "text/x-python",
   "name": "python",
   "nbconvert_exporter": "python",
   "pygments_lexer": "ipython3",
   "version": "3.8.5"
  }
 },
 "nbformat": 4,
 "nbformat_minor": 5
}
